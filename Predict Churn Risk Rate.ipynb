{
 "cells": [
  {
   "cell_type": "markdown",
   "metadata": {},
   "source": [
    "https://www.hackerearth.com/challenges/competitive/hackerearth-machine-learning-challenge-predict-customer-churn/"
   ]
  },
  {
   "cell_type": "markdown",
   "metadata": {},
   "source": [
    "## Challenge Description"
   ]
  },
  {
   "cell_type": "markdown",
   "metadata": {},
   "source": [
    "### Predict the churn risk rate\n",
    "\n",
    "Churn rate is a marketing metric that describes the number of customers who leave a business over a specific time period. Every user is assigned a prediction value that estimates their state of churn at any given time. This value is based on:\n",
    "\n",
    "- User demographic information\n",
    "- Browsing behavior\n",
    "- Historical purchase data among other information\n",
    "\n",
    "It factors in our unique and proprietary predictions of how long a user will remain a customer. This score is updated every day for all users who have a minimum of one conversion. The values assigned are between 1 and 5.\n",
    "\n",
    "### Task\n",
    "Your task is to predict the churn score for a website based on the features provided in the dataset."
   ]
  },
  {
   "cell_type": "markdown",
   "metadata": {},
   "source": [
    "Data description\n",
    "The dataset folder contains the following files:\n",
    "\n",
    "train.csv: 36992 x 25<br>\n",
    "test.csv: 19919 x 24<br>\n",
    "sample_submission.csv: 5 x 2\n",
    "\n",
    "The columns provided in the dataset are as follows:\n",
    "\n",
    "Column name\tDescription\n",
    "- __customer_id__:-\tRepresents the unique identification number of a customer\n",
    "- **Name**:-Represents the name of a customer\n",
    "- **age**:- Represents the age of a customer\n",
    "- **security_no**:- Represents a unique security number that is used to identify a person\n",
    "- **region_category**:- Represents the region that a customer belongs to \n",
    "- **membership_category**:- Represents the category of the membership that a customer is using\n",
    "- **joining_date**:- Represents the date when a customer became a member \n",
    "- **joined_through_referral**:-\tRepresents whether a customer joined using any referral code or ID\n",
    "- **referral_id**:-  Represents a referral ID\n",
    "- **preferred_offer_types**:- Represents the type of offer that a customer prefers\n",
    "- **medium_of_operation**:-\tRepresents the medium of operation that a customer uses for transactions\n",
    "- **internet_option**:-\tRepresents the type of internet service a customer uses\n",
    "- **last_visit_time**:-\tRepresents the last time a customer visited the website\n",
    "- **days_since_last_login**- Represents the no. of days since a customer last logged into the website\n",
    "- **avg_time_spent**:- Represents the average time spent by a customer on the website\n",
    "- **avg_transaction_value**:- Represents the average transaction value of a customer\n",
    "- **avg_frequency_login_days**:- Represents the no. of times a customer has logged in to the website\n",
    "- **points_in_wallet**:- Represents the points awarded to a customer on each transaction \n",
    "- **used_special_discount**:- Represents whether a customer uses special discounts offered\n",
    "- **offer_application_preference**:- Represents whether a customer prefers offers \n",
    "- **past_complaint**:- Represents whether a customer has raised any complaints \n",
    "- **complaint_status**:- Represents whether the complaints raised by a customer was resolved \n",
    "- **feedback**-\tRepresents the feedback provided by a customer\n",
    "- **churn_risk_score**:- Represents the churn risk score that ranges from 1 to 5"
   ]
  },
  {
   "cell_type": "markdown",
   "metadata": {},
   "source": [
    "## Kaam Shuru "
   ]
  },
  {
   "cell_type": "markdown",
   "metadata": {},
   "source": [
    "### Load the required libraries"
   ]
  },
  {
   "cell_type": "code",
   "execution_count": 273,
   "metadata": {
    "ExecuteTime": {
     "end_time": "2021-03-28T11:55:19.225524Z",
     "start_time": "2021-03-28T11:55:19.205623Z"
    },
    "scrolled": true
   },
   "outputs": [],
   "source": [
    "import pandas as pd\n",
    "import numpy as np\n",
    "import warnings\n",
    "\n",
    "warnings.filterwarnings(\"ignore\")\n",
    "\n",
    "pd.set_option('max_columns',None) # to view total (all) columns of dataframe\n",
    "from sklearn.metrics import f1_score\n",
    "import matplotlib.pyplot as plt\n",
    "import seaborn as sns\n",
    "from sklearn.preprocessing import StandardScaler\n",
    "from sklearn.model_selection import train_test_split"
   ]
  },
  {
   "cell_type": "markdown",
   "metadata": {},
   "source": [
    "### Load the Data"
   ]
  },
  {
   "cell_type": "code",
   "execution_count": 199,
   "metadata": {
    "ExecuteTime": {
     "end_time": "2021-03-28T07:35:06.128782Z",
     "start_time": "2021-03-28T07:35:05.477016Z"
    }
   },
   "outputs": [],
   "source": [
    "df_train=pd.read_csv('train.csv')\n",
    "df_test=pd.read_csv('test.csv')"
   ]
  },
  {
   "cell_type": "code",
   "execution_count": 200,
   "metadata": {
    "ExecuteTime": {
     "end_time": "2021-03-28T07:35:06.821238Z",
     "start_time": "2021-03-28T07:35:06.808249Z"
    },
    "scrolled": true
   },
   "outputs": [
    {
     "name": "stdout",
     "output_type": "stream",
     "text": [
      "Train Data Shape:  (36992, 25)\n",
      "Test Data Shape:  (19919, 24)\n"
     ]
    }
   ],
   "source": [
    "print('Train Data Shape: ',df_train.shape)\n",
    "print('Test Data Shape: ',df_test.shape)"
   ]
  },
  {
   "cell_type": "code",
   "execution_count": 201,
   "metadata": {
    "ExecuteTime": {
     "end_time": "2021-03-28T07:35:07.665509Z",
     "start_time": "2021-03-28T07:35:07.606667Z"
    }
   },
   "outputs": [
    {
     "data": {
      "text/html": [
       "<div>\n",
       "<style scoped>\n",
       "    .dataframe tbody tr th:only-of-type {\n",
       "        vertical-align: middle;\n",
       "    }\n",
       "\n",
       "    .dataframe tbody tr th {\n",
       "        vertical-align: top;\n",
       "    }\n",
       "\n",
       "    .dataframe thead th {\n",
       "        text-align: right;\n",
       "    }\n",
       "</style>\n",
       "<table border=\"1\" class=\"dataframe\">\n",
       "  <thead>\n",
       "    <tr style=\"text-align: right;\">\n",
       "      <th></th>\n",
       "      <th>customer_id</th>\n",
       "      <th>Name</th>\n",
       "      <th>age</th>\n",
       "      <th>gender</th>\n",
       "      <th>security_no</th>\n",
       "      <th>region_category</th>\n",
       "      <th>membership_category</th>\n",
       "      <th>joining_date</th>\n",
       "      <th>joined_through_referral</th>\n",
       "      <th>referral_id</th>\n",
       "      <th>preferred_offer_types</th>\n",
       "      <th>medium_of_operation</th>\n",
       "      <th>internet_option</th>\n",
       "      <th>last_visit_time</th>\n",
       "      <th>days_since_last_login</th>\n",
       "      <th>avg_time_spent</th>\n",
       "      <th>avg_transaction_value</th>\n",
       "      <th>avg_frequency_login_days</th>\n",
       "      <th>points_in_wallet</th>\n",
       "      <th>used_special_discount</th>\n",
       "      <th>offer_application_preference</th>\n",
       "      <th>past_complaint</th>\n",
       "      <th>complaint_status</th>\n",
       "      <th>feedback</th>\n",
       "      <th>churn_risk_score</th>\n",
       "    </tr>\n",
       "  </thead>\n",
       "  <tbody>\n",
       "    <tr>\n",
       "      <th>35623</th>\n",
       "      <td>fffe43004900440034003700300039003400</td>\n",
       "      <td>Jenni Hults</td>\n",
       "      <td>13</td>\n",
       "      <td>F</td>\n",
       "      <td>EYFEROL</td>\n",
       "      <td>Town</td>\n",
       "      <td>Gold Membership</td>\n",
       "      <td>2017-09-02</td>\n",
       "      <td>No</td>\n",
       "      <td>xxxxxxxx</td>\n",
       "      <td>Credit/Debit Card Offers</td>\n",
       "      <td>Desktop</td>\n",
       "      <td>Fiber_Optic</td>\n",
       "      <td>15:18:33</td>\n",
       "      <td>13</td>\n",
       "      <td>422.450000</td>\n",
       "      <td>6281.92</td>\n",
       "      <td>4.0</td>\n",
       "      <td>791.80</td>\n",
       "      <td>Yes</td>\n",
       "      <td>No</td>\n",
       "      <td>Yes</td>\n",
       "      <td>Unsolved</td>\n",
       "      <td>Quality Customer Care</td>\n",
       "      <td>1</td>\n",
       "    </tr>\n",
       "    <tr>\n",
       "      <th>958</th>\n",
       "      <td>fffe43004900440034003800370038003900</td>\n",
       "      <td>Alayna Thiry</td>\n",
       "      <td>49</td>\n",
       "      <td>M</td>\n",
       "      <td>87BJX0G</td>\n",
       "      <td>Town</td>\n",
       "      <td>Basic Membership</td>\n",
       "      <td>2015-09-07</td>\n",
       "      <td>No</td>\n",
       "      <td>xxxxxxxx</td>\n",
       "      <td>Without Offers</td>\n",
       "      <td>Smartphone</td>\n",
       "      <td>Mobile_Data</td>\n",
       "      <td>12:57:06</td>\n",
       "      <td>19</td>\n",
       "      <td>-780.967176</td>\n",
       "      <td>47736.96</td>\n",
       "      <td>13.0</td>\n",
       "      <td>502.06</td>\n",
       "      <td>No</td>\n",
       "      <td>Yes</td>\n",
       "      <td>No</td>\n",
       "      <td>Not Applicable</td>\n",
       "      <td>Poor Product Quality</td>\n",
       "      <td>5</td>\n",
       "    </tr>\n",
       "    <tr>\n",
       "      <th>2447</th>\n",
       "      <td>fffe43004900440032003000310037003800</td>\n",
       "      <td>Arlen Ibarra</td>\n",
       "      <td>38</td>\n",
       "      <td>F</td>\n",
       "      <td>5FPJY4G</td>\n",
       "      <td>NaN</td>\n",
       "      <td>Basic Membership</td>\n",
       "      <td>2017-02-21</td>\n",
       "      <td>No</td>\n",
       "      <td>xxxxxxxx</td>\n",
       "      <td>Gift Vouchers/Coupons</td>\n",
       "      <td>Desktop</td>\n",
       "      <td>Mobile_Data</td>\n",
       "      <td>10:33:26</td>\n",
       "      <td>10</td>\n",
       "      <td>396.160000</td>\n",
       "      <td>14658.36</td>\n",
       "      <td>15.0</td>\n",
       "      <td>698.96</td>\n",
       "      <td>Yes</td>\n",
       "      <td>No</td>\n",
       "      <td>Yes</td>\n",
       "      <td>Unsolved</td>\n",
       "      <td>Too many ads</td>\n",
       "      <td>5</td>\n",
       "    </tr>\n",
       "    <tr>\n",
       "      <th>19887</th>\n",
       "      <td>fffe43004900440032003800380031003400</td>\n",
       "      <td>Erich Casiano</td>\n",
       "      <td>15</td>\n",
       "      <td>M</td>\n",
       "      <td>TVV4LEJ</td>\n",
       "      <td>City</td>\n",
       "      <td>Gold Membership</td>\n",
       "      <td>2015-07-09</td>\n",
       "      <td>No</td>\n",
       "      <td>xxxxxxxx</td>\n",
       "      <td>Credit/Debit Card Offers</td>\n",
       "      <td>Desktop</td>\n",
       "      <td>Mobile_Data</td>\n",
       "      <td>07:59:42</td>\n",
       "      <td>20</td>\n",
       "      <td>37.090000</td>\n",
       "      <td>8996.55</td>\n",
       "      <td>20.0</td>\n",
       "      <td>768.64</td>\n",
       "      <td>Yes</td>\n",
       "      <td>No</td>\n",
       "      <td>Yes</td>\n",
       "      <td>No Information Available</td>\n",
       "      <td>Poor Website</td>\n",
       "      <td>3</td>\n",
       "    </tr>\n",
       "  </tbody>\n",
       "</table>\n",
       "</div>"
      ],
      "text/plain": [
       "                                customer_id           Name  age gender  \\\n",
       "35623  fffe43004900440034003700300039003400    Jenni Hults   13      F   \n",
       "958    fffe43004900440034003800370038003900   Alayna Thiry   49      M   \n",
       "2447   fffe43004900440032003000310037003800   Arlen Ibarra   38      F   \n",
       "19887  fffe43004900440032003800380031003400  Erich Casiano   15      M   \n",
       "\n",
       "      security_no region_category membership_category joining_date  \\\n",
       "35623     EYFEROL            Town     Gold Membership   2017-09-02   \n",
       "958       87BJX0G            Town    Basic Membership   2015-09-07   \n",
       "2447      5FPJY4G             NaN    Basic Membership   2017-02-21   \n",
       "19887     TVV4LEJ            City     Gold Membership   2015-07-09   \n",
       "\n",
       "      joined_through_referral referral_id     preferred_offer_types  \\\n",
       "35623                      No    xxxxxxxx  Credit/Debit Card Offers   \n",
       "958                        No    xxxxxxxx            Without Offers   \n",
       "2447                       No    xxxxxxxx     Gift Vouchers/Coupons   \n",
       "19887                      No    xxxxxxxx  Credit/Debit Card Offers   \n",
       "\n",
       "      medium_of_operation internet_option last_visit_time  \\\n",
       "35623             Desktop     Fiber_Optic        15:18:33   \n",
       "958            Smartphone     Mobile_Data        12:57:06   \n",
       "2447              Desktop     Mobile_Data        10:33:26   \n",
       "19887             Desktop     Mobile_Data        07:59:42   \n",
       "\n",
       "       days_since_last_login  avg_time_spent  avg_transaction_value  \\\n",
       "35623                     13      422.450000                6281.92   \n",
       "958                       19     -780.967176               47736.96   \n",
       "2447                      10      396.160000               14658.36   \n",
       "19887                     20       37.090000                8996.55   \n",
       "\n",
       "      avg_frequency_login_days  points_in_wallet used_special_discount  \\\n",
       "35623                      4.0            791.80                   Yes   \n",
       "958                       13.0            502.06                    No   \n",
       "2447                      15.0            698.96                   Yes   \n",
       "19887                     20.0            768.64                   Yes   \n",
       "\n",
       "      offer_application_preference past_complaint          complaint_status  \\\n",
       "35623                           No            Yes                  Unsolved   \n",
       "958                            Yes             No            Not Applicable   \n",
       "2447                            No            Yes                  Unsolved   \n",
       "19887                           No            Yes  No Information Available   \n",
       "\n",
       "                    feedback  churn_risk_score  \n",
       "35623  Quality Customer Care                 1  \n",
       "958     Poor Product Quality                 5  \n",
       "2447            Too many ads                 5  \n",
       "19887           Poor Website                 3  "
      ]
     },
     "execution_count": 201,
     "metadata": {},
     "output_type": "execute_result"
    }
   ],
   "source": [
    "df_train.sample(4)"
   ]
  },
  {
   "cell_type": "code",
   "execution_count": 202,
   "metadata": {
    "ExecuteTime": {
     "end_time": "2021-03-28T07:35:08.402537Z",
     "start_time": "2021-03-28T07:35:08.391567Z"
    }
   },
   "outputs": [],
   "source": [
    "def divideFeatures(df):\n",
    "    numerical_features = df.select_dtypes(include=[np.number])\n",
    "    categorical_features = df.select_dtypes(include=[np.object])\n",
    "    return numerical_features, categorical_features"
   ]
  },
  {
   "cell_type": "code",
   "execution_count": 203,
   "metadata": {
    "ExecuteTime": {
     "end_time": "2021-03-28T07:35:09.135810Z",
     "start_time": "2021-03-28T07:35:09.090930Z"
    }
   },
   "outputs": [],
   "source": [
    "cont_features,cat_feature=divideFeatures(df_train)"
   ]
  },
  {
   "cell_type": "markdown",
   "metadata": {},
   "source": [
    "### Remove columns"
   ]
  },
  {
   "cell_type": "code",
   "execution_count": 204,
   "metadata": {
    "ExecuteTime": {
     "end_time": "2021-03-28T07:35:09.884168Z",
     "start_time": "2021-03-28T07:35:09.841283Z"
    }
   },
   "outputs": [],
   "source": [
    "remove_col=['customer_id','Name','security_no','referral_id','last_visit_time','joining_date']\n",
    "df_train=df_train.drop(remove_col,axis=1)\n",
    "df_test=df_test.drop(remove_col,axis=1)"
   ]
  },
  {
   "cell_type": "markdown",
   "metadata": {},
   "source": [
    "### Fill Missing/Error/? Values"
   ]
  },
  {
   "cell_type": "code",
   "execution_count": 205,
   "metadata": {
    "ExecuteTime": {
     "end_time": "2021-03-28T07:35:10.042742Z",
     "start_time": "2021-03-28T07:35:09.969939Z"
    }
   },
   "outputs": [
    {
     "name": "stdout",
     "output_type": "stream",
     "text": [
      "Precentage of missing values  age                              0.000000\n",
      "gender                           0.000000\n",
      "region_category                 14.673443\n",
      "membership_category              0.000000\n",
      "joined_through_referral          0.000000\n",
      "preferred_offer_types            0.778547\n",
      "medium_of_operation              0.000000\n",
      "internet_option                  0.000000\n",
      "days_since_last_login            0.000000\n",
      "avg_time_spent                   0.000000\n",
      "avg_transaction_value            0.000000\n",
      "avg_frequency_login_days         0.000000\n",
      "points_in_wallet                 9.307418\n",
      "used_special_discount            0.000000\n",
      "offer_application_preference     0.000000\n",
      "past_complaint                   0.000000\n",
      "complaint_status                 0.000000\n",
      "feedback                         0.000000\n",
      "churn_risk_score                 0.000000\n",
      "dtype: float64\n"
     ]
    }
   ],
   "source": [
    "print('Precentage of missing values ',(df_train.isna().sum()/len(df_train)*100))"
   ]
  },
  {
   "cell_type": "code",
   "execution_count": 206,
   "metadata": {
    "ExecuteTime": {
     "end_time": "2021-03-28T07:35:15.363313Z",
     "start_time": "2021-03-28T07:35:11.341616Z"
    }
   },
   "outputs": [
    {
     "data": {
      "image/png": "[encoded data removed]",
      "text/plain": [
       "<Figure size 1152x1152 with 6 Axes>"
      ]
     },
     "metadata": {},
     "output_type": "display_data"
    }
   ],
   "source": [
    "fig = plt.figure(figsize=(16,16))\n",
    "for i in range(len(cont_features.columns)):\n",
    "    fig.add_subplot(3, 3, i+1)\n",
    "    sns.distplot(cont_features.dropna().iloc[:,i])\n",
    "plt.tight_layout()\n",
    "plt.show()"
   ]
  },
  {
   "cell_type": "markdown",
   "metadata": {},
   "source": [
    "#### points_in_wallet"
   ]
  },
  {
   "cell_type": "code",
   "execution_count": 207,
   "metadata": {
    "ExecuteTime": {
     "end_time": "2021-03-28T07:35:16.096241Z",
     "start_time": "2021-03-28T07:35:16.086268Z"
    }
   },
   "outputs": [],
   "source": [
    "df_train['points_in_wallet']=df_train['points_in_wallet'].fillna(df_train['points_in_wallet'].mean())\n",
    "df_test['points_in_wallet']=df_test['points_in_wallet'].fillna(df_train['points_in_wallet'].mean())"
   ]
  },
  {
   "cell_type": "code",
   "execution_count": 208,
   "metadata": {
    "ExecuteTime": {
     "end_time": "2021-03-28T07:35:16.299612Z",
     "start_time": "2021-03-28T07:35:16.100231Z"
    }
   },
   "outputs": [
    {
     "data": {
      "text/plain": [
       "0"
      ]
     },
     "execution_count": 208,
     "metadata": {},
     "output_type": "execute_result"
    }
   ],
   "source": [
    "df_train['points_in_wallet'].isna().sum()"
   ]
  },
  {
   "cell_type": "markdown",
   "metadata": {},
   "source": [
    "#### Region Category"
   ]
  },
  {
   "cell_type": "code",
   "execution_count": 209,
   "metadata": {
    "ExecuteTime": {
     "end_time": "2021-03-28T07:35:17.701251Z",
     "start_time": "2021-03-28T07:35:17.672329Z"
    }
   },
   "outputs": [
    {
     "data": {
      "text/plain": [
       "Town       14128\n",
       "City       12737\n",
       "Village     4699\n",
       "Name: region_category, dtype: int64"
      ]
     },
     "execution_count": 209,
     "metadata": {},
     "output_type": "execute_result"
    }
   ],
   "source": [
    "df_train['region_category'].value_counts()"
   ]
  },
  {
   "cell_type": "code",
   "execution_count": 210,
   "metadata": {
    "ExecuteTime": {
     "end_time": "2021-03-28T07:35:17.749122Z",
     "start_time": "2021-03-28T07:35:17.708233Z"
    }
   },
   "outputs": [
    {
     "data": {
      "text/plain": [
       "5428"
      ]
     },
     "execution_count": 210,
     "metadata": {},
     "output_type": "execute_result"
    }
   ],
   "source": [
    "df_train['region_category'].isna().sum()"
   ]
  },
  {
   "cell_type": "code",
   "execution_count": 211,
   "metadata": {
    "ExecuteTime": {
     "end_time": "2021-03-28T07:35:19.106921Z",
     "start_time": "2021-03-28T07:35:19.079996Z"
    }
   },
   "outputs": [],
   "source": [
    "df_train['region_category']=df_train['region_category'].fillna('Unknown')\n",
    "df_test['region_category']=df_test['region_category'].fillna('Unknown')"
   ]
  },
  {
   "cell_type": "markdown",
   "metadata": {},
   "source": [
    "#### preferred_offer_types"
   ]
  },
  {
   "cell_type": "code",
   "execution_count": 212,
   "metadata": {
    "ExecuteTime": {
     "end_time": "2021-03-28T07:35:19.780127Z",
     "start_time": "2021-03-28T07:35:19.752197Z"
    }
   },
   "outputs": [
    {
     "data": {
      "text/plain": [
       "288"
      ]
     },
     "execution_count": 212,
     "metadata": {},
     "output_type": "execute_result"
    }
   ],
   "source": [
    "df_train['preferred_offer_types'].isna().sum()"
   ]
  },
  {
   "cell_type": "code",
   "execution_count": 213,
   "metadata": {
    "ExecuteTime": {
     "end_time": "2021-03-28T07:35:20.520308Z",
     "start_time": "2021-03-28T07:35:20.507339Z"
    }
   },
   "outputs": [
    {
     "data": {
      "text/plain": [
       "Gift Vouchers/Coupons       12349\n",
       "Credit/Debit Card Offers    12274\n",
       "Without Offers              12081\n",
       "Name: preferred_offer_types, dtype: int64"
      ]
     },
     "execution_count": 213,
     "metadata": {},
     "output_type": "execute_result"
    }
   ],
   "source": [
    "df_train['preferred_offer_types'].value_counts()"
   ]
  },
  {
   "cell_type": "code",
   "execution_count": 214,
   "metadata": {
    "ExecuteTime": {
     "end_time": "2021-03-28T07:35:21.237395Z",
     "start_time": "2021-03-28T07:35:21.193504Z"
    }
   },
   "outputs": [],
   "source": [
    "df_train['preferred_offer_types']=df_train['preferred_offer_types'].fillna(df_train['preferred_offer_types'].mode().values[0])\n",
    "df_test['preferred_offer_types']=df_test['preferred_offer_types'].fillna(df_train['preferred_offer_types'].mode().values[0])"
   ]
  },
  {
   "cell_type": "markdown",
   "metadata": {},
   "source": [
    "#### Gender"
   ]
  },
  {
   "cell_type": "code",
   "execution_count": 215,
   "metadata": {
    "ExecuteTime": {
     "end_time": "2021-03-28T07:35:21.946005Z",
     "start_time": "2021-03-28T07:35:21.902123Z"
    }
   },
   "outputs": [
    {
     "data": {
      "text/plain": [
       "F          18490\n",
       "M          18443\n",
       "Unknown       59\n",
       "Name: gender, dtype: int64"
      ]
     },
     "execution_count": 215,
     "metadata": {},
     "output_type": "execute_result"
    }
   ],
   "source": [
    "df_train['gender'].value_counts()"
   ]
  },
  {
   "cell_type": "code",
   "execution_count": 216,
   "metadata": {
    "ExecuteTime": {
     "end_time": "2021-03-28T07:35:22.664598Z",
     "start_time": "2021-03-28T07:35:22.620716Z"
    }
   },
   "outputs": [],
   "source": [
    "df_train['gender']=df_train['gender'].apply(lambda x:'F' if x == 'Unknown' else x)\n",
    "df_test['gender']=df_test['gender'].apply(lambda x:'F' if x == 'Unknown' else x)"
   ]
  },
  {
   "cell_type": "markdown",
   "metadata": {},
   "source": [
    "#### joined_through_referral"
   ]
  },
  {
   "cell_type": "code",
   "execution_count": 217,
   "metadata": {
    "ExecuteTime": {
     "end_time": "2021-03-28T07:35:23.358137Z",
     "start_time": "2021-03-28T07:35:23.331210Z"
    }
   },
   "outputs": [
    {
     "data": {
      "text/plain": [
       "No     15839\n",
       "Yes    15715\n",
       "?       5438\n",
       "Name: joined_through_referral, dtype: int64"
      ]
     },
     "execution_count": 217,
     "metadata": {},
     "output_type": "execute_result"
    }
   ],
   "source": [
    "df_train['joined_through_referral'].value_counts()"
   ]
  },
  {
   "cell_type": "code",
   "execution_count": 218,
   "metadata": {
    "ExecuteTime": {
     "end_time": "2021-03-28T07:35:24.049715Z",
     "start_time": "2021-03-28T07:35:24.007836Z"
    }
   },
   "outputs": [],
   "source": [
    "df_train['joined_through_referral']=df_train['joined_through_referral'].apply(lambda x:'No' if x == '?' else x)\n",
    "df_test['joined_through_referral']=df_test['joined_through_referral'].apply(lambda x:'No' if x == '?' else x)"
   ]
  },
  {
   "cell_type": "markdown",
   "metadata": {},
   "source": [
    "#### Medium of Operation"
   ]
  },
  {
   "cell_type": "code",
   "execution_count": 219,
   "metadata": {
    "ExecuteTime": {
     "end_time": "2021-03-28T07:35:24.799709Z",
     "start_time": "2021-03-28T07:35:24.774775Z"
    },
    "scrolled": false
   },
   "outputs": [
    {
     "data": {
      "text/plain": [
       "Desktop       13913\n",
       "Smartphone    13876\n",
       "?              5393\n",
       "Both           3810\n",
       "Name: medium_of_operation, dtype: int64"
      ]
     },
     "execution_count": 219,
     "metadata": {},
     "output_type": "execute_result"
    }
   ],
   "source": [
    "df_train['medium_of_operation'].value_counts()"
   ]
  },
  {
   "cell_type": "code",
   "execution_count": 220,
   "metadata": {
    "ExecuteTime": {
     "end_time": "2021-03-28T07:35:25.598258Z",
     "start_time": "2021-03-28T07:35:25.563352Z"
    }
   },
   "outputs": [],
   "source": [
    "df_train['medium_of_operation']=df_train['medium_of_operation'].apply(lambda x:'Desktop' if x == '?' else x)\n",
    "df_test['medium_of_operation']=df_test['medium_of_operation'].apply(lambda x:'Desktop' if x == '?' else x)"
   ]
  },
  {
   "cell_type": "markdown",
   "metadata": {},
   "source": [
    "#### avg_login_frequency_days"
   ]
  },
  {
   "cell_type": "code",
   "execution_count": 221,
   "metadata": {
    "ExecuteTime": {
     "end_time": "2021-03-28T07:35:26.337802Z",
     "start_time": "2021-03-28T07:35:26.277969Z"
    }
   },
   "outputs": [],
   "source": [
    "df_train['avg_frequency_login_days']=df_train['avg_frequency_login_days'].apply(lambda x: 0 if x=='Error' else x)\n",
    "df_train['avg_frequency_login_days']=df_train['avg_frequency_login_days'].astype('float')\n",
    "df_test['avg_frequency_login_days']=df_test['avg_frequency_login_days'].apply(lambda x: 0 if x=='Error' else x)\n",
    "df_test['avg_frequency_login_days']=df_test['avg_frequency_login_days'].astype('float')"
   ]
  },
  {
   "cell_type": "code",
   "execution_count": 222,
   "metadata": {
    "ExecuteTime": {
     "end_time": "2021-03-28T07:35:27.027330Z",
     "start_time": "2021-03-28T07:35:26.983449Z"
    },
    "scrolled": true
   },
   "outputs": [
    {
     "data": {
      "text/html": [
       "<div>\n",
       "<style scoped>\n",
       "    .dataframe tbody tr th:only-of-type {\n",
       "        vertical-align: middle;\n",
       "    }\n",
       "\n",
       "    .dataframe tbody tr th {\n",
       "        vertical-align: top;\n",
       "    }\n",
       "\n",
       "    .dataframe thead th {\n",
       "        text-align: right;\n",
       "    }\n",
       "</style>\n",
       "<table border=\"1\" class=\"dataframe\">\n",
       "  <thead>\n",
       "    <tr style=\"text-align: right;\">\n",
       "      <th></th>\n",
       "      <th>age</th>\n",
       "      <th>gender</th>\n",
       "      <th>region_category</th>\n",
       "      <th>membership_category</th>\n",
       "      <th>joined_through_referral</th>\n",
       "      <th>preferred_offer_types</th>\n",
       "      <th>medium_of_operation</th>\n",
       "      <th>internet_option</th>\n",
       "      <th>days_since_last_login</th>\n",
       "      <th>avg_time_spent</th>\n",
       "      <th>avg_transaction_value</th>\n",
       "      <th>avg_frequency_login_days</th>\n",
       "      <th>points_in_wallet</th>\n",
       "      <th>used_special_discount</th>\n",
       "      <th>offer_application_preference</th>\n",
       "      <th>past_complaint</th>\n",
       "      <th>complaint_status</th>\n",
       "      <th>feedback</th>\n",
       "      <th>churn_risk_score</th>\n",
       "    </tr>\n",
       "  </thead>\n",
       "  <tbody>\n",
       "    <tr>\n",
       "      <th>0</th>\n",
       "      <td>18</td>\n",
       "      <td>F</td>\n",
       "      <td>Village</td>\n",
       "      <td>Platinum Membership</td>\n",
       "      <td>No</td>\n",
       "      <td>Gift Vouchers/Coupons</td>\n",
       "      <td>Desktop</td>\n",
       "      <td>Wi-Fi</td>\n",
       "      <td>17</td>\n",
       "      <td>300.63</td>\n",
       "      <td>53005.25</td>\n",
       "      <td>17.0</td>\n",
       "      <td>781.750000</td>\n",
       "      <td>Yes</td>\n",
       "      <td>Yes</td>\n",
       "      <td>No</td>\n",
       "      <td>Not Applicable</td>\n",
       "      <td>Products always in Stock</td>\n",
       "      <td>2</td>\n",
       "    </tr>\n",
       "    <tr>\n",
       "      <th>1</th>\n",
       "      <td>32</td>\n",
       "      <td>F</td>\n",
       "      <td>City</td>\n",
       "      <td>Premium Membership</td>\n",
       "      <td>No</td>\n",
       "      <td>Gift Vouchers/Coupons</td>\n",
       "      <td>Desktop</td>\n",
       "      <td>Mobile_Data</td>\n",
       "      <td>16</td>\n",
       "      <td>306.34</td>\n",
       "      <td>12838.38</td>\n",
       "      <td>10.0</td>\n",
       "      <td>686.882199</td>\n",
       "      <td>Yes</td>\n",
       "      <td>No</td>\n",
       "      <td>Yes</td>\n",
       "      <td>Solved</td>\n",
       "      <td>Quality Customer Care</td>\n",
       "      <td>1</td>\n",
       "    </tr>\n",
       "    <tr>\n",
       "      <th>2</th>\n",
       "      <td>44</td>\n",
       "      <td>F</td>\n",
       "      <td>Town</td>\n",
       "      <td>No Membership</td>\n",
       "      <td>Yes</td>\n",
       "      <td>Gift Vouchers/Coupons</td>\n",
       "      <td>Desktop</td>\n",
       "      <td>Wi-Fi</td>\n",
       "      <td>14</td>\n",
       "      <td>516.16</td>\n",
       "      <td>21027.00</td>\n",
       "      <td>22.0</td>\n",
       "      <td>500.690000</td>\n",
       "      <td>No</td>\n",
       "      <td>Yes</td>\n",
       "      <td>Yes</td>\n",
       "      <td>Solved in Follow-up</td>\n",
       "      <td>Poor Website</td>\n",
       "      <td>5</td>\n",
       "    </tr>\n",
       "    <tr>\n",
       "      <th>3</th>\n",
       "      <td>37</td>\n",
       "      <td>M</td>\n",
       "      <td>City</td>\n",
       "      <td>No Membership</td>\n",
       "      <td>Yes</td>\n",
       "      <td>Gift Vouchers/Coupons</td>\n",
       "      <td>Desktop</td>\n",
       "      <td>Mobile_Data</td>\n",
       "      <td>11</td>\n",
       "      <td>53.27</td>\n",
       "      <td>25239.56</td>\n",
       "      <td>6.0</td>\n",
       "      <td>567.660000</td>\n",
       "      <td>No</td>\n",
       "      <td>Yes</td>\n",
       "      <td>Yes</td>\n",
       "      <td>Unsolved</td>\n",
       "      <td>Poor Website</td>\n",
       "      <td>5</td>\n",
       "    </tr>\n",
       "    <tr>\n",
       "      <th>4</th>\n",
       "      <td>31</td>\n",
       "      <td>F</td>\n",
       "      <td>City</td>\n",
       "      <td>No Membership</td>\n",
       "      <td>No</td>\n",
       "      <td>Credit/Debit Card Offers</td>\n",
       "      <td>Smartphone</td>\n",
       "      <td>Mobile_Data</td>\n",
       "      <td>20</td>\n",
       "      <td>113.13</td>\n",
       "      <td>24483.66</td>\n",
       "      <td>16.0</td>\n",
       "      <td>663.060000</td>\n",
       "      <td>No</td>\n",
       "      <td>Yes</td>\n",
       "      <td>Yes</td>\n",
       "      <td>Solved</td>\n",
       "      <td>Poor Website</td>\n",
       "      <td>5</td>\n",
       "    </tr>\n",
       "  </tbody>\n",
       "</table>\n",
       "</div>"
      ],
      "text/plain": [
       "   age gender region_category  membership_category joined_through_referral  \\\n",
       "0   18      F         Village  Platinum Membership                      No   \n",
       "1   32      F            City   Premium Membership                      No   \n",
       "2   44      F            Town        No Membership                     Yes   \n",
       "3   37      M            City        No Membership                     Yes   \n",
       "4   31      F            City        No Membership                      No   \n",
       "\n",
       "      preferred_offer_types medium_of_operation internet_option  \\\n",
       "0     Gift Vouchers/Coupons             Desktop           Wi-Fi   \n",
       "1     Gift Vouchers/Coupons             Desktop     Mobile_Data   \n",
       "2     Gift Vouchers/Coupons             Desktop           Wi-Fi   \n",
       "3     Gift Vouchers/Coupons             Desktop     Mobile_Data   \n",
       "4  Credit/Debit Card Offers          Smartphone     Mobile_Data   \n",
       "\n",
       "   days_since_last_login  avg_time_spent  avg_transaction_value  \\\n",
       "0                     17          300.63               53005.25   \n",
       "1                     16          306.34               12838.38   \n",
       "2                     14          516.16               21027.00   \n",
       "3                     11           53.27               25239.56   \n",
       "4                     20          113.13               24483.66   \n",
       "\n",
       "   avg_frequency_login_days  points_in_wallet used_special_discount  \\\n",
       "0                      17.0        781.750000                   Yes   \n",
       "1                      10.0        686.882199                   Yes   \n",
       "2                      22.0        500.690000                    No   \n",
       "3                       6.0        567.660000                    No   \n",
       "4                      16.0        663.060000                    No   \n",
       "\n",
       "  offer_application_preference past_complaint     complaint_status  \\\n",
       "0                          Yes             No       Not Applicable   \n",
       "1                           No            Yes               Solved   \n",
       "2                          Yes            Yes  Solved in Follow-up   \n",
       "3                          Yes            Yes             Unsolved   \n",
       "4                          Yes            Yes               Solved   \n",
       "\n",
       "                   feedback  churn_risk_score  \n",
       "0  Products always in Stock                 2  \n",
       "1     Quality Customer Care                 1  \n",
       "2              Poor Website                 5  \n",
       "3              Poor Website                 5  \n",
       "4              Poor Website                 5  "
      ]
     },
     "execution_count": 222,
     "metadata": {},
     "output_type": "execute_result"
    }
   ],
   "source": [
    "df_train.head()"
   ]
  },
  {
   "cell_type": "code",
   "execution_count": 223,
   "metadata": {
    "ExecuteTime": {
     "end_time": "2021-03-28T07:35:27.719479Z",
     "start_time": "2021-03-28T07:35:27.691554Z"
    }
   },
   "outputs": [],
   "source": [
    "cont_features,cat_feature=divideFeatures(df_train)"
   ]
  },
  {
   "cell_type": "code",
   "execution_count": 224,
   "metadata": {
    "ExecuteTime": {
     "end_time": "2021-03-28T07:35:36.122270Z",
     "start_time": "2021-03-28T07:35:36.092352Z"
    },
    "scrolled": true
   },
   "outputs": [
    {
     "data": {
      "text/html": [
       "<div>\n",
       "<style scoped>\n",
       "    .dataframe tbody tr th:only-of-type {\n",
       "        vertical-align: middle;\n",
       "    }\n",
       "\n",
       "    .dataframe tbody tr th {\n",
       "        vertical-align: top;\n",
       "    }\n",
       "\n",
       "    .dataframe thead th {\n",
       "        text-align: right;\n",
       "    }\n",
       "</style>\n",
       "<table border=\"1\" class=\"dataframe\">\n",
       "  <thead>\n",
       "    <tr style=\"text-align: right;\">\n",
       "      <th></th>\n",
       "      <th>age</th>\n",
       "      <th>days_since_last_login</th>\n",
       "      <th>avg_time_spent</th>\n",
       "      <th>avg_transaction_value</th>\n",
       "      <th>avg_frequency_login_days</th>\n",
       "      <th>points_in_wallet</th>\n",
       "      <th>churn_risk_score</th>\n",
       "    </tr>\n",
       "  </thead>\n",
       "  <tbody>\n",
       "    <tr>\n",
       "      <th>0</th>\n",
       "      <td>18</td>\n",
       "      <td>17</td>\n",
       "      <td>300.630000</td>\n",
       "      <td>53005.25</td>\n",
       "      <td>17.0</td>\n",
       "      <td>781.750000</td>\n",
       "      <td>2</td>\n",
       "    </tr>\n",
       "    <tr>\n",
       "      <th>1</th>\n",
       "      <td>32</td>\n",
       "      <td>16</td>\n",
       "      <td>306.340000</td>\n",
       "      <td>12838.38</td>\n",
       "      <td>10.0</td>\n",
       "      <td>686.882199</td>\n",
       "      <td>1</td>\n",
       "    </tr>\n",
       "    <tr>\n",
       "      <th>2</th>\n",
       "      <td>44</td>\n",
       "      <td>14</td>\n",
       "      <td>516.160000</td>\n",
       "      <td>21027.00</td>\n",
       "      <td>22.0</td>\n",
       "      <td>500.690000</td>\n",
       "      <td>5</td>\n",
       "    </tr>\n",
       "    <tr>\n",
       "      <th>3</th>\n",
       "      <td>37</td>\n",
       "      <td>11</td>\n",
       "      <td>53.270000</td>\n",
       "      <td>25239.56</td>\n",
       "      <td>6.0</td>\n",
       "      <td>567.660000</td>\n",
       "      <td>5</td>\n",
       "    </tr>\n",
       "    <tr>\n",
       "      <th>4</th>\n",
       "      <td>31</td>\n",
       "      <td>20</td>\n",
       "      <td>113.130000</td>\n",
       "      <td>24483.66</td>\n",
       "      <td>16.0</td>\n",
       "      <td>663.060000</td>\n",
       "      <td>5</td>\n",
       "    </tr>\n",
       "    <tr>\n",
       "      <th>...</th>\n",
       "      <td>...</td>\n",
       "      <td>...</td>\n",
       "      <td>...</td>\n",
       "      <td>...</td>\n",
       "      <td>...</td>\n",
       "      <td>...</td>\n",
       "      <td>...</td>\n",
       "    </tr>\n",
       "    <tr>\n",
       "      <th>36987</th>\n",
       "      <td>46</td>\n",
       "      <td>2</td>\n",
       "      <td>-650.682759</td>\n",
       "      <td>27277.68</td>\n",
       "      <td>6.0</td>\n",
       "      <td>639.510000</td>\n",
       "      <td>4</td>\n",
       "    </tr>\n",
       "    <tr>\n",
       "      <th>36988</th>\n",
       "      <td>29</td>\n",
       "      <td>13</td>\n",
       "      <td>-638.123421</td>\n",
       "      <td>11069.71</td>\n",
       "      <td>28.0</td>\n",
       "      <td>527.990000</td>\n",
       "      <td>5</td>\n",
       "    </tr>\n",
       "    <tr>\n",
       "      <th>36989</th>\n",
       "      <td>23</td>\n",
       "      <td>12</td>\n",
       "      <td>154.940000</td>\n",
       "      <td>38127.56</td>\n",
       "      <td>0.0</td>\n",
       "      <td>680.470000</td>\n",
       "      <td>4</td>\n",
       "    </tr>\n",
       "    <tr>\n",
       "      <th>36990</th>\n",
       "      <td>53</td>\n",
       "      <td>15</td>\n",
       "      <td>482.610000</td>\n",
       "      <td>2378.86</td>\n",
       "      <td>20.0</td>\n",
       "      <td>197.264414</td>\n",
       "      <td>3</td>\n",
       "    </tr>\n",
       "    <tr>\n",
       "      <th>36991</th>\n",
       "      <td>35</td>\n",
       "      <td>15</td>\n",
       "      <td>79.180000</td>\n",
       "      <td>2189.68</td>\n",
       "      <td>0.0</td>\n",
       "      <td>719.970000</td>\n",
       "      <td>2</td>\n",
       "    </tr>\n",
       "  </tbody>\n",
       "</table>\n",
       "<p>36992 rows × 7 columns</p>\n",
       "</div>"
      ],
      "text/plain": [
       "       age  days_since_last_login  avg_time_spent  avg_transaction_value  \\\n",
       "0       18                     17      300.630000               53005.25   \n",
       "1       32                     16      306.340000               12838.38   \n",
       "2       44                     14      516.160000               21027.00   \n",
       "3       37                     11       53.270000               25239.56   \n",
       "4       31                     20      113.130000               24483.66   \n",
       "...    ...                    ...             ...                    ...   \n",
       "36987   46                      2     -650.682759               27277.68   \n",
       "36988   29                     13     -638.123421               11069.71   \n",
       "36989   23                     12      154.940000               38127.56   \n",
       "36990   53                     15      482.610000                2378.86   \n",
       "36991   35                     15       79.180000                2189.68   \n",
       "\n",
       "       avg_frequency_login_days  points_in_wallet  churn_risk_score  \n",
       "0                          17.0        781.750000                 2  \n",
       "1                          10.0        686.882199                 1  \n",
       "2                          22.0        500.690000                 5  \n",
       "3                           6.0        567.660000                 5  \n",
       "4                          16.0        663.060000                 5  \n",
       "...                         ...               ...               ...  \n",
       "36987                       6.0        639.510000                 4  \n",
       "36988                      28.0        527.990000                 5  \n",
       "36989                       0.0        680.470000                 4  \n",
       "36990                      20.0        197.264414                 3  \n",
       "36991                       0.0        719.970000                 2  \n",
       "\n",
       "[36992 rows x 7 columns]"
      ]
     },
     "execution_count": 224,
     "metadata": {},
     "output_type": "execute_result"
    }
   ],
   "source": [
    "cont_features"
   ]
  },
  {
   "cell_type": "markdown",
   "metadata": {},
   "source": [
    "## Create dummy variables"
   ]
  },
  {
   "cell_type": "code",
   "execution_count": 225,
   "metadata": {
    "ExecuteTime": {
     "end_time": "2021-03-28T07:35:57.192269Z",
     "start_time": "2021-03-28T07:35:57.049641Z"
    },
    "scrolled": true
   },
   "outputs": [],
   "source": [
    "df_train=pd.get_dummies(df_train,drop_first=True)\n",
    "df_test=pd.get_dummies(df_test,drop_first=True)"
   ]
  },
  {
   "cell_type": "code",
   "execution_count": 226,
   "metadata": {
    "ExecuteTime": {
     "end_time": "2021-03-28T07:35:58.658071Z",
     "start_time": "2021-03-28T07:35:58.647101Z"
    }
   },
   "outputs": [
    {
     "data": {
      "text/plain": [
       "(36992, 38)"
      ]
     },
     "execution_count": 226,
     "metadata": {},
     "output_type": "execute_result"
    }
   ],
   "source": [
    "df_train.shape"
   ]
  },
  {
   "cell_type": "code",
   "execution_count": 227,
   "metadata": {
    "ExecuteTime": {
     "end_time": "2021-03-28T07:35:59.390303Z",
     "start_time": "2021-03-28T07:35:59.378328Z"
    }
   },
   "outputs": [
    {
     "data": {
      "text/plain": [
       "(19919, 37)"
      ]
     },
     "execution_count": 227,
     "metadata": {},
     "output_type": "execute_result"
    }
   ],
   "source": [
    "df_test.shape"
   ]
  },
  {
   "cell_type": "markdown",
   "metadata": {},
   "source": [
    "## Train_test_split"
   ]
  },
  {
   "cell_type": "code",
   "execution_count": 228,
   "metadata": {
    "ExecuteTime": {
     "end_time": "2021-03-28T07:36:11.955363Z",
     "start_time": "2021-03-28T07:36:11.915426Z"
    }
   },
   "outputs": [],
   "source": [
    "X=df_train.drop('churn_risk_score',axis=1)\n",
    "y=df_train['churn_risk_score']\n",
    "X_train,X_test,y_train,y_test = train_test_split(X,y,test_size=0.2,random_state=324)"
   ]
  },
  {
   "cell_type": "code",
   "execution_count": 229,
   "metadata": {
    "ExecuteTime": {
     "end_time": "2021-03-28T07:36:13.797964Z",
     "start_time": "2021-03-28T07:36:13.740118Z"
    },
    "scrolled": true
   },
   "outputs": [
    {
     "data": {
      "text/html": [
       "<div>\n",
       "<style scoped>\n",
       "    .dataframe tbody tr th:only-of-type {\n",
       "        vertical-align: middle;\n",
       "    }\n",
       "\n",
       "    .dataframe tbody tr th {\n",
       "        vertical-align: top;\n",
       "    }\n",
       "\n",
       "    .dataframe thead th {\n",
       "        text-align: right;\n",
       "    }\n",
       "</style>\n",
       "<table border=\"1\" class=\"dataframe\">\n",
       "  <thead>\n",
       "    <tr style=\"text-align: right;\">\n",
       "      <th></th>\n",
       "      <th>age</th>\n",
       "      <th>days_since_last_login</th>\n",
       "      <th>avg_time_spent</th>\n",
       "      <th>avg_transaction_value</th>\n",
       "      <th>avg_frequency_login_days</th>\n",
       "      <th>points_in_wallet</th>\n",
       "      <th>gender_M</th>\n",
       "      <th>region_category_Town</th>\n",
       "      <th>region_category_Unknown</th>\n",
       "      <th>region_category_Village</th>\n",
       "      <th>membership_category_Gold Membership</th>\n",
       "      <th>membership_category_No Membership</th>\n",
       "      <th>membership_category_Platinum Membership</th>\n",
       "      <th>membership_category_Premium Membership</th>\n",
       "      <th>membership_category_Silver Membership</th>\n",
       "      <th>joined_through_referral_Yes</th>\n",
       "      <th>preferred_offer_types_Gift Vouchers/Coupons</th>\n",
       "      <th>preferred_offer_types_Without Offers</th>\n",
       "      <th>medium_of_operation_Desktop</th>\n",
       "      <th>medium_of_operation_Smartphone</th>\n",
       "      <th>internet_option_Mobile_Data</th>\n",
       "      <th>internet_option_Wi-Fi</th>\n",
       "      <th>used_special_discount_Yes</th>\n",
       "      <th>offer_application_preference_Yes</th>\n",
       "      <th>past_complaint_Yes</th>\n",
       "      <th>complaint_status_Not Applicable</th>\n",
       "      <th>complaint_status_Solved</th>\n",
       "      <th>complaint_status_Solved in Follow-up</th>\n",
       "      <th>complaint_status_Unsolved</th>\n",
       "      <th>feedback_Poor Customer Service</th>\n",
       "      <th>feedback_Poor Product Quality</th>\n",
       "      <th>feedback_Poor Website</th>\n",
       "      <th>feedback_Products always in Stock</th>\n",
       "      <th>feedback_Quality Customer Care</th>\n",
       "      <th>feedback_Reasonable Price</th>\n",
       "      <th>feedback_Too many ads</th>\n",
       "      <th>feedback_User Friendly Website</th>\n",
       "    </tr>\n",
       "  </thead>\n",
       "  <tbody>\n",
       "    <tr>\n",
       "      <th>14101</th>\n",
       "      <td>24</td>\n",
       "      <td>12</td>\n",
       "      <td>33.08000</td>\n",
       "      <td>25825.62</td>\n",
       "      <td>0.0</td>\n",
       "      <td>571.55</td>\n",
       "      <td>1</td>\n",
       "      <td>1</td>\n",
       "      <td>0</td>\n",
       "      <td>0</td>\n",
       "      <td>0</td>\n",
       "      <td>1</td>\n",
       "      <td>0</td>\n",
       "      <td>0</td>\n",
       "      <td>0</td>\n",
       "      <td>0</td>\n",
       "      <td>1</td>\n",
       "      <td>0</td>\n",
       "      <td>0</td>\n",
       "      <td>1</td>\n",
       "      <td>1</td>\n",
       "      <td>0</td>\n",
       "      <td>0</td>\n",
       "      <td>1</td>\n",
       "      <td>0</td>\n",
       "      <td>1</td>\n",
       "      <td>0</td>\n",
       "      <td>0</td>\n",
       "      <td>0</td>\n",
       "      <td>0</td>\n",
       "      <td>0</td>\n",
       "      <td>0</td>\n",
       "      <td>0</td>\n",
       "      <td>0</td>\n",
       "      <td>0</td>\n",
       "      <td>1</td>\n",
       "      <td>0</td>\n",
       "    </tr>\n",
       "    <tr>\n",
       "      <th>34373</th>\n",
       "      <td>47</td>\n",
       "      <td>5</td>\n",
       "      <td>1622.28628</td>\n",
       "      <td>27126.61</td>\n",
       "      <td>28.0</td>\n",
       "      <td>613.92</td>\n",
       "      <td>1</td>\n",
       "      <td>0</td>\n",
       "      <td>0</td>\n",
       "      <td>0</td>\n",
       "      <td>0</td>\n",
       "      <td>1</td>\n",
       "      <td>0</td>\n",
       "      <td>0</td>\n",
       "      <td>0</td>\n",
       "      <td>1</td>\n",
       "      <td>1</td>\n",
       "      <td>0</td>\n",
       "      <td>1</td>\n",
       "      <td>0</td>\n",
       "      <td>1</td>\n",
       "      <td>0</td>\n",
       "      <td>1</td>\n",
       "      <td>1</td>\n",
       "      <td>1</td>\n",
       "      <td>0</td>\n",
       "      <td>0</td>\n",
       "      <td>1</td>\n",
       "      <td>0</td>\n",
       "      <td>0</td>\n",
       "      <td>0</td>\n",
       "      <td>1</td>\n",
       "      <td>0</td>\n",
       "      <td>0</td>\n",
       "      <td>0</td>\n",
       "      <td>0</td>\n",
       "      <td>0</td>\n",
       "    </tr>\n",
       "    <tr>\n",
       "      <th>27416</th>\n",
       "      <td>38</td>\n",
       "      <td>23</td>\n",
       "      <td>32.50000</td>\n",
       "      <td>93951.83</td>\n",
       "      <td>17.0</td>\n",
       "      <td>782.10</td>\n",
       "      <td>0</td>\n",
       "      <td>1</td>\n",
       "      <td>0</td>\n",
       "      <td>0</td>\n",
       "      <td>0</td>\n",
       "      <td>0</td>\n",
       "      <td>1</td>\n",
       "      <td>0</td>\n",
       "      <td>0</td>\n",
       "      <td>0</td>\n",
       "      <td>0</td>\n",
       "      <td>1</td>\n",
       "      <td>0</td>\n",
       "      <td>1</td>\n",
       "      <td>0</td>\n",
       "      <td>0</td>\n",
       "      <td>1</td>\n",
       "      <td>0</td>\n",
       "      <td>1</td>\n",
       "      <td>0</td>\n",
       "      <td>1</td>\n",
       "      <td>0</td>\n",
       "      <td>0</td>\n",
       "      <td>0</td>\n",
       "      <td>0</td>\n",
       "      <td>0</td>\n",
       "      <td>0</td>\n",
       "      <td>1</td>\n",
       "      <td>0</td>\n",
       "      <td>0</td>\n",
       "      <td>0</td>\n",
       "    </tr>\n",
       "    <tr>\n",
       "      <th>11814</th>\n",
       "      <td>30</td>\n",
       "      <td>22</td>\n",
       "      <td>458.83000</td>\n",
       "      <td>5397.79</td>\n",
       "      <td>12.0</td>\n",
       "      <td>592.96</td>\n",
       "      <td>1</td>\n",
       "      <td>0</td>\n",
       "      <td>1</td>\n",
       "      <td>0</td>\n",
       "      <td>0</td>\n",
       "      <td>1</td>\n",
       "      <td>0</td>\n",
       "      <td>0</td>\n",
       "      <td>0</td>\n",
       "      <td>0</td>\n",
       "      <td>0</td>\n",
       "      <td>0</td>\n",
       "      <td>1</td>\n",
       "      <td>0</td>\n",
       "      <td>0</td>\n",
       "      <td>1</td>\n",
       "      <td>0</td>\n",
       "      <td>1</td>\n",
       "      <td>0</td>\n",
       "      <td>1</td>\n",
       "      <td>0</td>\n",
       "      <td>0</td>\n",
       "      <td>0</td>\n",
       "      <td>0</td>\n",
       "      <td>1</td>\n",
       "      <td>0</td>\n",
       "      <td>0</td>\n",
       "      <td>0</td>\n",
       "      <td>0</td>\n",
       "      <td>0</td>\n",
       "      <td>0</td>\n",
       "    </tr>\n",
       "    <tr>\n",
       "      <th>30413</th>\n",
       "      <td>61</td>\n",
       "      <td>20</td>\n",
       "      <td>89.18000</td>\n",
       "      <td>22901.65</td>\n",
       "      <td>22.0</td>\n",
       "      <td>706.10</td>\n",
       "      <td>1</td>\n",
       "      <td>1</td>\n",
       "      <td>0</td>\n",
       "      <td>0</td>\n",
       "      <td>1</td>\n",
       "      <td>0</td>\n",
       "      <td>0</td>\n",
       "      <td>0</td>\n",
       "      <td>0</td>\n",
       "      <td>0</td>\n",
       "      <td>1</td>\n",
       "      <td>0</td>\n",
       "      <td>0</td>\n",
       "      <td>1</td>\n",
       "      <td>1</td>\n",
       "      <td>0</td>\n",
       "      <td>0</td>\n",
       "      <td>1</td>\n",
       "      <td>1</td>\n",
       "      <td>0</td>\n",
       "      <td>0</td>\n",
       "      <td>0</td>\n",
       "      <td>0</td>\n",
       "      <td>0</td>\n",
       "      <td>0</td>\n",
       "      <td>1</td>\n",
       "      <td>0</td>\n",
       "      <td>0</td>\n",
       "      <td>0</td>\n",
       "      <td>0</td>\n",
       "      <td>0</td>\n",
       "    </tr>\n",
       "  </tbody>\n",
       "</table>\n",
       "</div>"
      ],
      "text/plain": [
       "       age  days_since_last_login  avg_time_spent  avg_transaction_value  \\\n",
       "14101   24                     12        33.08000               25825.62   \n",
       "34373   47                      5      1622.28628               27126.61   \n",
       "27416   38                     23        32.50000               93951.83   \n",
       "11814   30                     22       458.83000                5397.79   \n",
       "30413   61                     20        89.18000               22901.65   \n",
       "\n",
       "       avg_frequency_login_days  points_in_wallet  gender_M  \\\n",
       "14101                       0.0            571.55         1   \n",
       "34373                      28.0            613.92         1   \n",
       "27416                      17.0            782.10         0   \n",
       "11814                      12.0            592.96         1   \n",
       "30413                      22.0            706.10         1   \n",
       "\n",
       "       region_category_Town  region_category_Unknown  region_category_Village  \\\n",
       "14101                     1                        0                        0   \n",
       "34373                     0                        0                        0   \n",
       "27416                     1                        0                        0   \n",
       "11814                     0                        1                        0   \n",
       "30413                     1                        0                        0   \n",
       "\n",
       "       membership_category_Gold Membership  membership_category_No Membership  \\\n",
       "14101                                    0                                  1   \n",
       "34373                                    0                                  1   \n",
       "27416                                    0                                  0   \n",
       "11814                                    0                                  1   \n",
       "30413                                    1                                  0   \n",
       "\n",
       "       membership_category_Platinum Membership  \\\n",
       "14101                                        0   \n",
       "34373                                        0   \n",
       "27416                                        1   \n",
       "11814                                        0   \n",
       "30413                                        0   \n",
       "\n",
       "       membership_category_Premium Membership  \\\n",
       "14101                                       0   \n",
       "34373                                       0   \n",
       "27416                                       0   \n",
       "11814                                       0   \n",
       "30413                                       0   \n",
       "\n",
       "       membership_category_Silver Membership  joined_through_referral_Yes  \\\n",
       "14101                                      0                            0   \n",
       "34373                                      0                            1   \n",
       "27416                                      0                            0   \n",
       "11814                                      0                            0   \n",
       "30413                                      0                            0   \n",
       "\n",
       "       preferred_offer_types_Gift Vouchers/Coupons  \\\n",
       "14101                                            1   \n",
       "34373                                            1   \n",
       "27416                                            0   \n",
       "11814                                            0   \n",
       "30413                                            1   \n",
       "\n",
       "       preferred_offer_types_Without Offers  medium_of_operation_Desktop  \\\n",
       "14101                                     0                            0   \n",
       "34373                                     0                            1   \n",
       "27416                                     1                            0   \n",
       "11814                                     0                            1   \n",
       "30413                                     0                            0   \n",
       "\n",
       "       medium_of_operation_Smartphone  internet_option_Mobile_Data  \\\n",
       "14101                               1                            1   \n",
       "34373                               0                            1   \n",
       "27416                               1                            0   \n",
       "11814                               0                            0   \n",
       "30413                               1                            1   \n",
       "\n",
       "       internet_option_Wi-Fi  used_special_discount_Yes  \\\n",
       "14101                      0                          0   \n",
       "34373                      0                          1   \n",
       "27416                      0                          1   \n",
       "11814                      1                          0   \n",
       "30413                      0                          0   \n",
       "\n",
       "       offer_application_preference_Yes  past_complaint_Yes  \\\n",
       "14101                                 1                   0   \n",
       "34373                                 1                   1   \n",
       "27416                                 0                   1   \n",
       "11814                                 1                   0   \n",
       "30413                                 1                   1   \n",
       "\n",
       "       complaint_status_Not Applicable  complaint_status_Solved  \\\n",
       "14101                                1                        0   \n",
       "34373                                0                        0   \n",
       "27416                                0                        1   \n",
       "11814                                1                        0   \n",
       "30413                                0                        0   \n",
       "\n",
       "       complaint_status_Solved in Follow-up  complaint_status_Unsolved  \\\n",
       "14101                                     0                          0   \n",
       "34373                                     1                          0   \n",
       "27416                                     0                          0   \n",
       "11814                                     0                          0   \n",
       "30413                                     0                          0   \n",
       "\n",
       "       feedback_Poor Customer Service  feedback_Poor Product Quality  \\\n",
       "14101                               0                              0   \n",
       "34373                               0                              0   \n",
       "27416                               0                              0   \n",
       "11814                               0                              1   \n",
       "30413                               0                              0   \n",
       "\n",
       "       feedback_Poor Website  feedback_Products always in Stock  \\\n",
       "14101                      0                                  0   \n",
       "34373                      1                                  0   \n",
       "27416                      0                                  0   \n",
       "11814                      0                                  0   \n",
       "30413                      1                                  0   \n",
       "\n",
       "       feedback_Quality Customer Care  feedback_Reasonable Price  \\\n",
       "14101                               0                          0   \n",
       "34373                               0                          0   \n",
       "27416                               1                          0   \n",
       "11814                               0                          0   \n",
       "30413                               0                          0   \n",
       "\n",
       "       feedback_Too many ads  feedback_User Friendly Website  \n",
       "14101                      1                               0  \n",
       "34373                      0                               0  \n",
       "27416                      0                               0  \n",
       "11814                      0                               0  \n",
       "30413                      0                               0  "
      ]
     },
     "execution_count": 229,
     "metadata": {},
     "output_type": "execute_result"
    }
   ],
   "source": [
    "X_train.head()"
   ]
  },
  {
   "cell_type": "code",
   "execution_count": 230,
   "metadata": {
    "ExecuteTime": {
     "end_time": "2021-03-28T07:36:16.519209Z",
     "start_time": "2021-03-28T07:36:16.509235Z"
    }
   },
   "outputs": [],
   "source": [
    "cont_features=cont_features.drop('churn_risk_score',axis=1)"
   ]
  },
  {
   "cell_type": "code",
   "execution_count": 231,
   "metadata": {
    "ExecuteTime": {
     "end_time": "2021-03-28T07:36:17.564534Z",
     "start_time": "2021-03-28T07:36:17.553051Z"
    }
   },
   "outputs": [
    {
     "data": {
      "text/plain": [
       "Index(['age', 'days_since_last_login', 'avg_time_spent',\n",
       "       'avg_transaction_value', 'avg_frequency_login_days',\n",
       "       'points_in_wallet'],\n",
       "      dtype='object')"
      ]
     },
     "execution_count": 231,
     "metadata": {},
     "output_type": "execute_result"
    }
   ],
   "source": [
    "cont_features.columns"
   ]
  },
  {
   "cell_type": "markdown",
   "metadata": {},
   "source": [
    "## Data Standardization"
   ]
  },
  {
   "cell_type": "code",
   "execution_count": 232,
   "metadata": {
    "ExecuteTime": {
     "end_time": "2021-03-28T07:36:21.996780Z",
     "start_time": "2021-03-28T07:36:21.864139Z"
    }
   },
   "outputs": [],
   "source": [
    "scaler=StandardScaler()\n",
    "X_train[cont_features.columns] = scaler.fit_transform(X_train[cont_features.columns])\n",
    "\n",
    "# scale test data with transform()\n",
    "X_test[cont_features.columns] = scaler.transform(X_test[cont_features.columns])"
   ]
  },
  {
   "cell_type": "code",
   "execution_count": 233,
   "metadata": {
    "ExecuteTime": {
     "end_time": "2021-03-28T07:36:23.886780Z",
     "start_time": "2021-03-28T07:36:23.835913Z"
    }
   },
   "outputs": [
    {
     "data": {
      "text/html": [
       "<div>\n",
       "<style scoped>\n",
       "    .dataframe tbody tr th:only-of-type {\n",
       "        vertical-align: middle;\n",
       "    }\n",
       "\n",
       "    .dataframe tbody tr th {\n",
       "        vertical-align: top;\n",
       "    }\n",
       "\n",
       "    .dataframe thead th {\n",
       "        text-align: right;\n",
       "    }\n",
       "</style>\n",
       "<table border=\"1\" class=\"dataframe\">\n",
       "  <thead>\n",
       "    <tr style=\"text-align: right;\">\n",
       "      <th></th>\n",
       "      <th>age</th>\n",
       "      <th>days_since_last_login</th>\n",
       "      <th>avg_time_spent</th>\n",
       "      <th>avg_transaction_value</th>\n",
       "      <th>avg_frequency_login_days</th>\n",
       "      <th>points_in_wallet</th>\n",
       "      <th>gender_M</th>\n",
       "      <th>region_category_Town</th>\n",
       "      <th>region_category_Unknown</th>\n",
       "      <th>region_category_Village</th>\n",
       "      <th>membership_category_Gold Membership</th>\n",
       "      <th>membership_category_No Membership</th>\n",
       "      <th>membership_category_Platinum Membership</th>\n",
       "      <th>membership_category_Premium Membership</th>\n",
       "      <th>membership_category_Silver Membership</th>\n",
       "      <th>joined_through_referral_Yes</th>\n",
       "      <th>preferred_offer_types_Gift Vouchers/Coupons</th>\n",
       "      <th>preferred_offer_types_Without Offers</th>\n",
       "      <th>medium_of_operation_Desktop</th>\n",
       "      <th>medium_of_operation_Smartphone</th>\n",
       "      <th>internet_option_Mobile_Data</th>\n",
       "      <th>internet_option_Wi-Fi</th>\n",
       "      <th>used_special_discount_Yes</th>\n",
       "      <th>offer_application_preference_Yes</th>\n",
       "      <th>past_complaint_Yes</th>\n",
       "      <th>complaint_status_Not Applicable</th>\n",
       "      <th>complaint_status_Solved</th>\n",
       "      <th>complaint_status_Solved in Follow-up</th>\n",
       "      <th>complaint_status_Unsolved</th>\n",
       "      <th>feedback_Poor Customer Service</th>\n",
       "      <th>feedback_Poor Product Quality</th>\n",
       "      <th>feedback_Poor Website</th>\n",
       "      <th>feedback_Products always in Stock</th>\n",
       "      <th>feedback_Quality Customer Care</th>\n",
       "      <th>feedback_Reasonable Price</th>\n",
       "      <th>feedback_Too many ads</th>\n",
       "      <th>feedback_User Friendly Website</th>\n",
       "    </tr>\n",
       "  </thead>\n",
       "  <tbody>\n",
       "    <tr>\n",
       "      <th>14101</th>\n",
       "      <td>-0.827141</td>\n",
       "      <td>0.235243</td>\n",
       "      <td>-0.529418</td>\n",
       "      <td>-0.178105</td>\n",
       "      <td>-1.453662</td>\n",
       "      <td>-0.625427</td>\n",
       "      <td>1</td>\n",
       "      <td>1</td>\n",
       "      <td>0</td>\n",
       "      <td>0</td>\n",
       "      <td>0</td>\n",
       "      <td>1</td>\n",
       "      <td>0</td>\n",
       "      <td>0</td>\n",
       "      <td>0</td>\n",
       "      <td>0</td>\n",
       "      <td>1</td>\n",
       "      <td>0</td>\n",
       "      <td>0</td>\n",
       "      <td>1</td>\n",
       "      <td>1</td>\n",
       "      <td>0</td>\n",
       "      <td>0</td>\n",
       "      <td>1</td>\n",
       "      <td>0</td>\n",
       "      <td>1</td>\n",
       "      <td>0</td>\n",
       "      <td>0</td>\n",
       "      <td>0</td>\n",
       "      <td>0</td>\n",
       "      <td>0</td>\n",
       "      <td>0</td>\n",
       "      <td>0</td>\n",
       "      <td>0</td>\n",
       "      <td>0</td>\n",
       "      <td>1</td>\n",
       "      <td>0</td>\n",
       "    </tr>\n",
       "    <tr>\n",
       "      <th>34373</th>\n",
       "      <td>0.620909</td>\n",
       "      <td>0.204604</td>\n",
       "      <td>3.453308</td>\n",
       "      <td>-0.111126</td>\n",
       "      <td>1.368264</td>\n",
       "      <td>-0.396168</td>\n",
       "      <td>1</td>\n",
       "      <td>0</td>\n",
       "      <td>0</td>\n",
       "      <td>0</td>\n",
       "      <td>0</td>\n",
       "      <td>1</td>\n",
       "      <td>0</td>\n",
       "      <td>0</td>\n",
       "      <td>0</td>\n",
       "      <td>1</td>\n",
       "      <td>1</td>\n",
       "      <td>0</td>\n",
       "      <td>1</td>\n",
       "      <td>0</td>\n",
       "      <td>1</td>\n",
       "      <td>0</td>\n",
       "      <td>1</td>\n",
       "      <td>1</td>\n",
       "      <td>1</td>\n",
       "      <td>0</td>\n",
       "      <td>0</td>\n",
       "      <td>1</td>\n",
       "      <td>0</td>\n",
       "      <td>0</td>\n",
       "      <td>0</td>\n",
       "      <td>1</td>\n",
       "      <td>0</td>\n",
       "      <td>0</td>\n",
       "      <td>0</td>\n",
       "      <td>0</td>\n",
       "      <td>0</td>\n",
       "    </tr>\n",
       "    <tr>\n",
       "      <th>27416</th>\n",
       "      <td>0.054281</td>\n",
       "      <td>0.283391</td>\n",
       "      <td>-0.530872</td>\n",
       "      <td>3.329203</td>\n",
       "      <td>0.259650</td>\n",
       "      <td>0.513834</td>\n",
       "      <td>0</td>\n",
       "      <td>1</td>\n",
       "      <td>0</td>\n",
       "      <td>0</td>\n",
       "      <td>0</td>\n",
       "      <td>0</td>\n",
       "      <td>1</td>\n",
       "      <td>0</td>\n",
       "      <td>0</td>\n",
       "      <td>0</td>\n",
       "      <td>0</td>\n",
       "      <td>1</td>\n",
       "      <td>0</td>\n",
       "      <td>1</td>\n",
       "      <td>0</td>\n",
       "      <td>0</td>\n",
       "      <td>1</td>\n",
       "      <td>0</td>\n",
       "      <td>1</td>\n",
       "      <td>0</td>\n",
       "      <td>1</td>\n",
       "      <td>0</td>\n",
       "      <td>0</td>\n",
       "      <td>0</td>\n",
       "      <td>0</td>\n",
       "      <td>0</td>\n",
       "      <td>0</td>\n",
       "      <td>1</td>\n",
       "      <td>0</td>\n",
       "      <td>0</td>\n",
       "      <td>0</td>\n",
       "    </tr>\n",
       "    <tr>\n",
       "      <th>11814</th>\n",
       "      <td>-0.449389</td>\n",
       "      <td>0.279014</td>\n",
       "      <td>0.537558</td>\n",
       "      <td>-1.229780</td>\n",
       "      <td>-0.244265</td>\n",
       "      <td>-0.509580</td>\n",
       "      <td>1</td>\n",
       "      <td>0</td>\n",
       "      <td>1</td>\n",
       "      <td>0</td>\n",
       "      <td>0</td>\n",
       "      <td>1</td>\n",
       "      <td>0</td>\n",
       "      <td>0</td>\n",
       "      <td>0</td>\n",
       "      <td>0</td>\n",
       "      <td>0</td>\n",
       "      <td>0</td>\n",
       "      <td>1</td>\n",
       "      <td>0</td>\n",
       "      <td>0</td>\n",
       "      <td>1</td>\n",
       "      <td>0</td>\n",
       "      <td>1</td>\n",
       "      <td>0</td>\n",
       "      <td>1</td>\n",
       "      <td>0</td>\n",
       "      <td>0</td>\n",
       "      <td>0</td>\n",
       "      <td>0</td>\n",
       "      <td>1</td>\n",
       "      <td>0</td>\n",
       "      <td>0</td>\n",
       "      <td>0</td>\n",
       "      <td>0</td>\n",
       "      <td>0</td>\n",
       "      <td>0</td>\n",
       "    </tr>\n",
       "    <tr>\n",
       "      <th>30413</th>\n",
       "      <td>1.502330</td>\n",
       "      <td>0.270260</td>\n",
       "      <td>-0.388826</td>\n",
       "      <td>-0.328638</td>\n",
       "      <td>0.763566</td>\n",
       "      <td>0.102607</td>\n",
       "      <td>1</td>\n",
       "      <td>1</td>\n",
       "      <td>0</td>\n",
       "      <td>0</td>\n",
       "      <td>1</td>\n",
       "      <td>0</td>\n",
       "      <td>0</td>\n",
       "      <td>0</td>\n",
       "      <td>0</td>\n",
       "      <td>0</td>\n",
       "      <td>1</td>\n",
       "      <td>0</td>\n",
       "      <td>0</td>\n",
       "      <td>1</td>\n",
       "      <td>1</td>\n",
       "      <td>0</td>\n",
       "      <td>0</td>\n",
       "      <td>1</td>\n",
       "      <td>1</td>\n",
       "      <td>0</td>\n",
       "      <td>0</td>\n",
       "      <td>0</td>\n",
       "      <td>0</td>\n",
       "      <td>0</td>\n",
       "      <td>0</td>\n",
       "      <td>1</td>\n",
       "      <td>0</td>\n",
       "      <td>0</td>\n",
       "      <td>0</td>\n",
       "      <td>0</td>\n",
       "      <td>0</td>\n",
       "    </tr>\n",
       "  </tbody>\n",
       "</table>\n",
       "</div>"
      ],
      "text/plain": [
       "            age  days_since_last_login  avg_time_spent  avg_transaction_value  \\\n",
       "14101 -0.827141               0.235243       -0.529418              -0.178105   \n",
       "34373  0.620909               0.204604        3.453308              -0.111126   \n",
       "27416  0.054281               0.283391       -0.530872               3.329203   \n",
       "11814 -0.449389               0.279014        0.537558              -1.229780   \n",
       "30413  1.502330               0.270260       -0.388826              -0.328638   \n",
       "\n",
       "       avg_frequency_login_days  points_in_wallet  gender_M  \\\n",
       "14101                 -1.453662         -0.625427         1   \n",
       "34373                  1.368264         -0.396168         1   \n",
       "27416                  0.259650          0.513834         0   \n",
       "11814                 -0.244265         -0.509580         1   \n",
       "30413                  0.763566          0.102607         1   \n",
       "\n",
       "       region_category_Town  region_category_Unknown  region_category_Village  \\\n",
       "14101                     1                        0                        0   \n",
       "34373                     0                        0                        0   \n",
       "27416                     1                        0                        0   \n",
       "11814                     0                        1                        0   \n",
       "30413                     1                        0                        0   \n",
       "\n",
       "       membership_category_Gold Membership  membership_category_No Membership  \\\n",
       "14101                                    0                                  1   \n",
       "34373                                    0                                  1   \n",
       "27416                                    0                                  0   \n",
       "11814                                    0                                  1   \n",
       "30413                                    1                                  0   \n",
       "\n",
       "       membership_category_Platinum Membership  \\\n",
       "14101                                        0   \n",
       "34373                                        0   \n",
       "27416                                        1   \n",
       "11814                                        0   \n",
       "30413                                        0   \n",
       "\n",
       "       membership_category_Premium Membership  \\\n",
       "14101                                       0   \n",
       "34373                                       0   \n",
       "27416                                       0   \n",
       "11814                                       0   \n",
       "30413                                       0   \n",
       "\n",
       "       membership_category_Silver Membership  joined_through_referral_Yes  \\\n",
       "14101                                      0                            0   \n",
       "34373                                      0                            1   \n",
       "27416                                      0                            0   \n",
       "11814                                      0                            0   \n",
       "30413                                      0                            0   \n",
       "\n",
       "       preferred_offer_types_Gift Vouchers/Coupons  \\\n",
       "14101                                            1   \n",
       "34373                                            1   \n",
       "27416                                            0   \n",
       "11814                                            0   \n",
       "30413                                            1   \n",
       "\n",
       "       preferred_offer_types_Without Offers  medium_of_operation_Desktop  \\\n",
       "14101                                     0                            0   \n",
       "34373                                     0                            1   \n",
       "27416                                     1                            0   \n",
       "11814                                     0                            1   \n",
       "30413                                     0                            0   \n",
       "\n",
       "       medium_of_operation_Smartphone  internet_option_Mobile_Data  \\\n",
       "14101                               1                            1   \n",
       "34373                               0                            1   \n",
       "27416                               1                            0   \n",
       "11814                               0                            0   \n",
       "30413                               1                            1   \n",
       "\n",
       "       internet_option_Wi-Fi  used_special_discount_Yes  \\\n",
       "14101                      0                          0   \n",
       "34373                      0                          1   \n",
       "27416                      0                          1   \n",
       "11814                      1                          0   \n",
       "30413                      0                          0   \n",
       "\n",
       "       offer_application_preference_Yes  past_complaint_Yes  \\\n",
       "14101                                 1                   0   \n",
       "34373                                 1                   1   \n",
       "27416                                 0                   1   \n",
       "11814                                 1                   0   \n",
       "30413                                 1                   1   \n",
       "\n",
       "       complaint_status_Not Applicable  complaint_status_Solved  \\\n",
       "14101                                1                        0   \n",
       "34373                                0                        0   \n",
       "27416                                0                        1   \n",
       "11814                                1                        0   \n",
       "30413                                0                        0   \n",
       "\n",
       "       complaint_status_Solved in Follow-up  complaint_status_Unsolved  \\\n",
       "14101                                     0                          0   \n",
       "34373                                     1                          0   \n",
       "27416                                     0                          0   \n",
       "11814                                     0                          0   \n",
       "30413                                     0                          0   \n",
       "\n",
       "       feedback_Poor Customer Service  feedback_Poor Product Quality  \\\n",
       "14101                               0                              0   \n",
       "34373                               0                              0   \n",
       "27416                               0                              0   \n",
       "11814                               0                              1   \n",
       "30413                               0                              0   \n",
       "\n",
       "       feedback_Poor Website  feedback_Products always in Stock  \\\n",
       "14101                      0                                  0   \n",
       "34373                      1                                  0   \n",
       "27416                      0                                  0   \n",
       "11814                      0                                  0   \n",
       "30413                      1                                  0   \n",
       "\n",
       "       feedback_Quality Customer Care  feedback_Reasonable Price  \\\n",
       "14101                               0                          0   \n",
       "34373                               0                          0   \n",
       "27416                               1                          0   \n",
       "11814                               0                          0   \n",
       "30413                               0                          0   \n",
       "\n",
       "       feedback_Too many ads  feedback_User Friendly Website  \n",
       "14101                      1                               0  \n",
       "34373                      0                               0  \n",
       "27416                      0                               0  \n",
       "11814                      0                               0  \n",
       "30413                      0                               0  "
      ]
     },
     "execution_count": 233,
     "metadata": {},
     "output_type": "execute_result"
    }
   ],
   "source": [
    "X_train.head()"
   ]
  },
  {
   "cell_type": "markdown",
   "metadata": {},
   "source": [
    "## Data Modelling"
   ]
  },
  {
   "cell_type": "code",
   "execution_count": 237,
   "metadata": {
    "ExecuteTime": {
     "end_time": "2021-03-28T07:43:22.574836Z",
     "start_time": "2021-03-28T07:42:20.522920Z"
    }
   },
   "outputs": [
    {
     "name": "stdout",
     "output_type": "stream",
     "text": [
      "Collecting xgboost\n",
      "  Downloading xgboost-1.3.3-py3-none-win_amd64.whl (95.2 MB)\n",
      "Requirement already satisfied: numpy in c:\\users\\hp\\anaconda3\\lib\\site-packages (from xgboost) (1.19.5)\n",
      "Requirement already satisfied: scipy in c:\\users\\hp\\anaconda3\\lib\\site-packages (from xgboost) (1.1.0)\n",
      "Installing collected packages: xgboost\n",
      "Successfully installed xgboost-1.3.3\n"
     ]
    }
   ],
   "source": [
    "! pip install xgboost"
   ]
  },
  {
   "cell_type": "code",
   "execution_count": 238,
   "metadata": {
    "ExecuteTime": {
     "end_time": "2021-03-28T07:44:04.016644Z",
     "start_time": "2021-03-28T07:44:02.666014Z"
    }
   },
   "outputs": [],
   "source": [
    "from xgboost import XGBClassifier"
   ]
  },
  {
   "cell_type": "code",
   "execution_count": 239,
   "metadata": {
    "ExecuteTime": {
     "end_time": "2021-03-28T07:44:26.687380Z",
     "start_time": "2021-03-28T07:44:26.673414Z"
    }
   },
   "outputs": [],
   "source": [
    "xgb_clf=XGBClassifier()"
   ]
  },
  {
   "cell_type": "code",
   "execution_count": 240,
   "metadata": {
    "ExecuteTime": {
     "end_time": "2021-03-28T07:45:24.903987Z",
     "start_time": "2021-03-28T07:44:59.700037Z"
    }
   },
   "outputs": [
    {
     "name": "stdout",
     "output_type": "stream",
     "text": [
      "[13:15:00] WARNING: C:/Users/Administrator/workspace/xgboost-win64_release_1.3.0/src/learner.cc:1061: Starting in XGBoost 1.3.0, the default evaluation metric used with the objective 'multi:softprob' was changed from 'merror' to 'mlogloss'. Explicitly set eval_metric if you'd like to restore the old behavior.\n"
     ]
    },
    {
     "data": {
      "text/plain": [
       "XGBClassifier(base_score=0.5, booster='gbtree', colsample_bylevel=1,\n",
       "       colsample_bynode=1, colsample_bytree=1, gamma=0, gpu_id=-1,\n",
       "       importance_type='gain', interaction_constraints='',\n",
       "       learning_rate=0.300000012, max_delta_step=0, max_depth=6,\n",
       "       min_child_weight=1, missing=nan, monotone_constraints='()',\n",
       "       n_estimators=100, n_jobs=4, num_parallel_tree=1,\n",
       "       objective='multi:softprob', random_state=0, reg_alpha=0,\n",
       "       reg_lambda=1, scale_pos_weight=None, subsample=1,\n",
       "       tree_method='exact', use_label_encoder=True, validate_parameters=1,\n",
       "       verbosity=None)"
      ]
     },
     "execution_count": 240,
     "metadata": {},
     "output_type": "execute_result"
    }
   ],
   "source": [
    "xgb_clf.fit(X_train,y_train)"
   ]
  },
  {
   "cell_type": "code",
   "execution_count": 241,
   "metadata": {
    "ExecuteTime": {
     "end_time": "2021-03-28T07:46:11.842548Z",
     "start_time": "2021-03-28T07:46:11.468550Z"
    }
   },
   "outputs": [
    {
     "data": {
      "text/plain": [
       "0.9057209475213733"
      ]
     },
     "execution_count": 241,
     "metadata": {},
     "output_type": "execute_result"
    }
   ],
   "source": [
    "xgb_clf.score(X_train,y_train)"
   ]
  },
  {
   "cell_type": "code",
   "execution_count": 242,
   "metadata": {
    "ExecuteTime": {
     "end_time": "2021-03-28T07:46:27.772327Z",
     "start_time": "2021-03-28T07:46:27.655642Z"
    }
   },
   "outputs": [
    {
     "data": {
      "text/plain": [
       "0.7605081767806461"
      ]
     },
     "execution_count": 242,
     "metadata": {},
     "output_type": "execute_result"
    }
   ],
   "source": [
    "xgb_clf.score(X_test,y_test)"
   ]
  },
  {
   "cell_type": "code",
   "execution_count": 264,
   "metadata": {
    "ExecuteTime": {
     "end_time": "2021-03-28T11:47:16.845472Z",
     "start_time": "2021-03-28T11:47:16.399637Z"
    }
   },
   "outputs": [
    {
     "name": "stdout",
     "output_type": "stream",
     "text": [
      "Index(['avg_transaction_value', 'avg_frequency_login_days', 'points_in_wallet',\n",
      "       'membership_category_Gold Membership',\n",
      "       'membership_category_No Membership',\n",
      "       'membership_category_Platinum Membership',\n",
      "       'membership_category_Premium Membership',\n",
      "       'membership_category_Silver Membership',\n",
      "       'feedback_Poor Customer Service', 'feedback_Poor Product Quality',\n",
      "       'feedback_Poor Website', 'feedback_Products always in Stock',\n",
      "       'feedback_Quality Customer Care', 'feedback_Reasonable Price',\n",
      "       'feedback_Too many ads', 'feedback_User Friendly Website'],\n",
      "      dtype='object')\n"
     ]
    }
   ],
   "source": [
    "mask=xgb_clf.feature_importances_.round(2) > 0.0\n",
    "# Apply the mask to the feature dataset X\n",
    "reduced_X = X_train.loc[:,mask]\n",
    "\n",
    "# prints out the selected column names\n",
    "print((reduced_X.columns))"
   ]
  },
  {
   "cell_type": "code",
   "execution_count": 251,
   "metadata": {
    "ExecuteTime": {
     "end_time": "2021-03-28T11:42:00.455033Z",
     "start_time": "2021-03-28T11:42:00.023698Z"
    },
    "scrolled": true
   },
   "outputs": [
    {
     "data": {
      "text/plain": [
       "{'age': 0.0,\n",
       " 'days_since_last_login': 0.0,\n",
       " 'avg_time_spent': 0.0,\n",
       " 'avg_transaction_value': 0.02,\n",
       " 'avg_frequency_login_days': 0.01,\n",
       " 'points_in_wallet': 0.06,\n",
       " 'gender_M': 0.0,\n",
       " 'region_category_Town': 0.0,\n",
       " 'region_category_Unknown': 0.0,\n",
       " 'region_category_Village': 0.0,\n",
       " 'membership_category_Gold Membership': 0.11,\n",
       " 'membership_category_No Membership': 0.07,\n",
       " 'membership_category_Platinum Membership': 0.11,\n",
       " 'membership_category_Premium Membership': 0.1,\n",
       " 'membership_category_Silver Membership': 0.11,\n",
       " 'joined_through_referral_Yes': 0.0,\n",
       " 'preferred_offer_types_Gift Vouchers/Coupons': 0.0,\n",
       " 'preferred_offer_types_Without Offers': 0.0,\n",
       " 'medium_of_operation_Desktop': 0.0,\n",
       " 'medium_of_operation_Smartphone': 0.0,\n",
       " 'internet_option_Mobile_Data': 0.0,\n",
       " 'internet_option_Wi-Fi': 0.0,\n",
       " 'used_special_discount_Yes': 0.0,\n",
       " 'offer_application_preference_Yes': 0.0,\n",
       " 'past_complaint_Yes': 0.0,\n",
       " 'complaint_status_Not Applicable': 0.0,\n",
       " 'complaint_status_Solved': 0.0,\n",
       " 'complaint_status_Solved in Follow-up': 0.0,\n",
       " 'complaint_status_Unsolved': 0.0,\n",
       " 'feedback_Poor Customer Service': 0.01,\n",
       " 'feedback_Poor Product Quality': 0.01,\n",
       " 'feedback_Poor Website': 0.01,\n",
       " 'feedback_Products always in Stock': 0.08,\n",
       " 'feedback_Quality Customer Care': 0.07,\n",
       " 'feedback_Reasonable Price': 0.08,\n",
       " 'feedback_Too many ads': 0.01,\n",
       " 'feedback_User Friendly Website': 0.07}"
      ]
     },
     "execution_count": 251,
     "metadata": {},
     "output_type": "execute_result"
    }
   ],
   "source": [
    "dict(zip(X_train.columns, xgb_clf.feature_importances_.round(2)))"
   ]
  },
  {
   "cell_type": "code",
   "execution_count": 267,
   "metadata": {
    "ExecuteTime": {
     "end_time": "2021-03-28T11:50:23.862293Z",
     "start_time": "2021-03-28T11:50:09.413440Z"
    }
   },
   "outputs": [
    {
     "name": "stdout",
     "output_type": "stream",
     "text": [
      "[17:20:09] WARNING: C:/Users/Administrator/workspace/xgboost-win64_release_1.3.0/src/learner.cc:1061: Starting in XGBoost 1.3.0, the default evaluation metric used with the objective 'multi:softprob' was changed from 'merror' to 'mlogloss'. Explicitly set eval_metric if you'd like to restore the old behavior.\n"
     ]
    },
    {
     "data": {
      "text/plain": [
       "XGBClassifier(base_score=0.5, booster='gbtree', colsample_bylevel=1,\n",
       "       colsample_bynode=1, colsample_bytree=1, gamma=0, gpu_id=-1,\n",
       "       importance_type='gain', interaction_constraints='',\n",
       "       learning_rate=0.300000012, max_delta_step=0, max_depth=6,\n",
       "       min_child_weight=1, missing=nan, monotone_constraints='()',\n",
       "       n_estimators=100, n_jobs=4, num_parallel_tree=1,\n",
       "       objective='multi:softprob', random_state=0, reg_alpha=0,\n",
       "       reg_lambda=1, scale_pos_weight=None, subsample=1,\n",
       "       tree_method='exact', use_label_encoder=True, validate_parameters=1,\n",
       "       verbosity=None)"
      ]
     },
     "execution_count": 267,
     "metadata": {},
     "output_type": "execute_result"
    }
   ],
   "source": [
    "xgb_mod=XGBClassifier()\n",
    "xgb_mod.fit(X_train[reduced_X.columns],y_train)"
   ]
  },
  {
   "cell_type": "code",
   "execution_count": 268,
   "metadata": {
    "ExecuteTime": {
     "end_time": "2021-03-28T11:51:30.715957Z",
     "start_time": "2021-03-28T11:51:30.376867Z"
    }
   },
   "outputs": [
    {
     "data": {
      "text/plain": [
       "0.8632108944682865"
      ]
     },
     "execution_count": 268,
     "metadata": {},
     "output_type": "execute_result"
    }
   ],
   "source": [
    "xgb_mod.score(X_train[reduced_X.columns],y_train)"
   ]
  },
  {
   "cell_type": "code",
   "execution_count": 270,
   "metadata": {
    "ExecuteTime": {
     "end_time": "2021-03-28T11:51:56.966952Z",
     "start_time": "2021-03-28T11:51:56.872241Z"
    }
   },
   "outputs": [
    {
     "data": {
      "text/plain": [
       "0.7615894039735099"
      ]
     },
     "execution_count": 270,
     "metadata": {},
     "output_type": "execute_result"
    }
   ],
   "source": [
    "xgb_mod.score(X_test[reduced_X.columns],y_test)"
   ]
  },
  {
   "cell_type": "code",
   "execution_count": 276,
   "metadata": {
    "ExecuteTime": {
     "end_time": "2021-03-28T11:56:08.637192Z",
     "start_time": "2021-03-28T11:56:08.537440Z"
    }
   },
   "outputs": [
    {
     "name": "stdout",
     "output_type": "stream",
     "text": [
      "63.9601398898017\n"
     ]
    }
   ],
   "source": [
    "print(f1_score(y_test, xgb_mod.predict(X_test[reduced_X.columns]), average=\"macro\")*100)"
   ]
  },
  {
   "cell_type": "code",
   "execution_count": 277,
   "metadata": {
    "ExecuteTime": {
     "end_time": "2021-03-28T12:08:58.753376Z",
     "start_time": "2021-03-28T11:56:36.270142Z"
    }
   },
   "outputs": [
    {
     "name": "stdout",
     "output_type": "stream",
     "text": [
      "Collecting catboost\n",
      "  Downloading catboost-0.25-cp36-none-win_amd64.whl (66.9 MB)\n",
      "Requirement already satisfied: scipy in c:\\users\\hp\\anaconda3\\lib\\site-packages (from catboost) (1.1.0)\n",
      "Requirement already satisfied: six in c:\\users\\hp\\anaconda3\\lib\\site-packages (from catboost) (1.11.0)\n",
      "Requirement already satisfied: pandas>=0.24.0 in c:\\users\\hp\\anaconda3\\lib\\site-packages (from catboost) (1.1.5)\n",
      "Collecting graphviz\n",
      "  Downloading graphviz-0.16-py2.py3-none-any.whl (19 kB)\n",
      "Collecting plotly\n",
      "  Downloading plotly-4.14.3-py2.py3-none-any.whl (13.2 MB)\n",
      "Requirement already satisfied: matplotlib in c:\\users\\hp\\anaconda3\\lib\\site-packages (from catboost) (2.2.2)\n",
      "Requirement already satisfied: numpy>=1.16.0 in c:\\users\\hp\\anaconda3\\lib\\site-packages (from catboost) (1.19.5)\n",
      "Requirement already satisfied: python-dateutil>=2.7.3 in c:\\users\\hp\\anaconda3\\lib\\site-packages (from pandas>=0.24.0->catboost) (2.7.3)\n",
      "Requirement already satisfied: pytz>=2017.2 in c:\\users\\hp\\anaconda3\\lib\\site-packages (from pandas>=0.24.0->catboost) (2018.4)\n",
      "Requirement already satisfied: cycler>=0.10 in c:\\users\\hp\\anaconda3\\lib\\site-packages (from matplotlib->catboost) (0.10.0)\n",
      "Requirement already satisfied: pyparsing!=2.0.4,!=2.1.2,!=2.1.6,>=2.0.1 in c:\\users\\hp\\anaconda3\\lib\\site-packages (from matplotlib->catboost) (2.2.0)\n",
      "Requirement already satisfied: kiwisolver>=1.0.1 in c:\\users\\hp\\anaconda3\\lib\\site-packages (from matplotlib->catboost) (1.0.1)\n",
      "Requirement already satisfied: setuptools in c:\\users\\hp\\anaconda3\\lib\\site-packages (from kiwisolver>=1.0.1->matplotlib->catboost) (39.1.0)\n",
      "Collecting retrying>=1.3.3\n",
      "  Downloading retrying-1.3.3.tar.gz (10 kB)\n",
      "Building wheels for collected packages: retrying\n",
      "  Building wheel for retrying (setup.py): started\n",
      "  Building wheel for retrying (setup.py): finished with status 'done'\n",
      "  Created wheel for retrying: filename=retrying-1.3.3-py3-none-any.whl size=6241 sha256=98583798425d3926b3cef8d93083a7fb1081c2ababd4b85f6d66c22cab78476b\n",
      "  Stored in directory: c:\\users\\hp\\appdata\\local\\pip\\cache\\wheels\\ac\\cb\\8a\\b27bf6323e2f4c462dcbf77d70b7c5e7868a7fbe12871770cf\n",
      "Successfully built retrying\n",
      "Installing collected packages: retrying, plotly, graphviz, catboost\n",
      "Successfully installed catboost-0.25 graphviz-0.16 plotly-4.14.3 retrying-1.3.3\n"
     ]
    }
   ],
   "source": [
    "! pip install catboost"
   ]
  },
  {
   "cell_type": "code",
   "execution_count": null,
   "metadata": {},
   "outputs": [],
   "source": []
  }
 ],
 "metadata": {
  "kernelspec": {
   "display_name": "Python 3",
   "language": "python",
   "name": "python3"
  },
  "language_info": {
   "codemirror_mode": {
    "name": "ipython",
    "version": 3
   },
   "file_extension": ".py",
   "mimetype": "text/x-python",
   "name": "python",
   "nbconvert_exporter": "python",
   "pygments_lexer": "ipython3",
   "version": "3.6.5"
  },
  "latex_envs": {
   "LaTeX_envs_menu_present": true,
   "autoclose": false,
   "autocomplete": true,
   "bibliofile": "biblio.bib",
   "cite_by": "apalike",
   "current_citInitial": 1,
   "eqLabelWithNumbers": true,
   "eqNumInitial": 1,
   "hotkeys": {
    "equation": "Ctrl-E",
    "itemize": "Ctrl-I"
   },
   "labels_anchors": false,
   "latex_user_defs": false,
   "report_style_numbering": false,
   "user_envs_cfg": false
  },
  "toc": {
   "base_numbering": 1,
   "nav_menu": {},
   "number_sections": true,
   "sideBar": true,
   "skip_h1_title": false,
   "title_cell": "Table of Contents",
   "title_sidebar": "Contents",
   "toc_cell": false,
   "toc_position": {},
   "toc_section_display": true,
   "toc_window_display": true
  },
  "varInspector": {
   "cols": {
    "lenName": 16,
    "lenType": 16,
    "lenVar": 40
   },
   "kernels_config": {
    "python": {
     "delete_cmd_postfix": "",
     "delete_cmd_prefix": "del ",
     "library": "var_list.py",
     "varRefreshCmd": "print(var_dic_list())"
    },
    "r": {
     "delete_cmd_postfix": ") ",
     "delete_cmd_prefix": "rm(",
     "library": "var_list.r",
     "varRefreshCmd": "cat(var_dic_list()) "
    }
   },
   "types_to_exclude": [
    "module",
    "function",
    "builtin_function_or_method",
    "instance",
    "_Feature"
   ],
   "window_display": false
  }
 },
 "nbformat": 4,
 "nbformat_minor": 2
}
